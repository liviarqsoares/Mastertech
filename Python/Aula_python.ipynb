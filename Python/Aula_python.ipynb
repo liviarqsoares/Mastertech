{
  "cells": [
    {
      "cell_type": "code",
      "execution_count": 10,
      "metadata": {
        "id": "5sYzBPXT_Urn"
      },
      "outputs": [],
      "source": [
        "#print de variáveis"
      ]
    },
    {
      "cell_type": "code",
      "execution_count": 2,
      "metadata": {
        "colab": {
          "base_uri": "https://localhost:8080/"
        },
        "id": "0HLJkhC4-Yqn",
        "outputId": "4d768680-4223-4f82-90d3-fda50a819b80"
      },
      "outputs": [
        {
          "name": "stdout",
          "output_type": "stream",
          "text": [
            "Olá , Livia!Você tem 43 anos e 1.7 de altura! Seja bem-vindo(a) ao programa Match!\n"
          ]
        }
      ],
      "source": [
        "Nome = \"Livia\"\n",
        "Idade = 43\n",
        "Altura = 1.70\n",
        "\n",
        "#concatenação\n",
        "print(f\"Olá , {Nome}!Você tem {Idade} anos e {Altura} de altura! Seja bem-vindo(a) ao programa Match!\")"
      ]
    },
    {
      "cell_type": "code",
      "execution_count": 9,
      "metadata": {
        "colab": {
          "base_uri": "https://localhost:8080/"
        },
        "id": "Unmhs-IjAlHH",
        "outputId": "d09dee78-f1ac-4075-ef15-d07ab19f608d"
      },
      "outputs": [
        {
          "name": "stdout",
          "output_type": "stream",
          "text": [
            "Insira Var 1:3.2\n",
            "Insira Var 2:5\n",
            "A soma do número 3.2 + o número 5.0 e o Resultado: 8.2\n"
          ]
        }
      ],
      "source": [
        "#Input de 2 números e soma dos dois\n",
        "Var1 = float(input(\"Insira Var 1:\"))\n",
        "Var2= float(input (\"Insira Var 2:\"))\n",
        "soma = Var1 + Var2\n",
        "print(f\"A soma do número {Var1} + o número {Var2} e o Resultado: {soma}\")"
      ]
    },
    {
      "cell_type": "code",
      "execution_count": null,
      "metadata": {
        "colab": {
          "base_uri": "https://localhost:8080/",
          "height": 297
        },
        "id": "ppjFR1N1DmSq",
        "outputId": "bd02de44-3a74-4db1-b23f-d51bd39ccc8c"
      },
      "outputs": [
        {
          "name": "stdout",
          "output_type": "stream",
          "text": [
            "Nota 1 =6\n",
            "Nota2 =6\n",
            "Nota3 =6\n"
          ]
        },
        {
          "ename": "TypeError",
          "evalue": "ignored",
          "output_type": "error",
          "traceback": [
            "\u001b[0;31m---------------------------------------------------------------------------\u001b[0m",
            "\u001b[0;31mTypeError\u001b[0m                                 Traceback (most recent call last)",
            "\u001b[0;32m<ipython-input-35-ed1c6352cf3f>\u001b[0m in \u001b[0;36m<cell line: 11>\u001b[0;34m()\u001b[0m\n\u001b[1;32m      9\u001b[0m \u001b[0mNota3\u001b[0m \u001b[0;34m=\u001b[0m \u001b[0mfloat\u001b[0m\u001b[0;34m(\u001b[0m\u001b[0minput\u001b[0m\u001b[0;34m(\u001b[0m\u001b[0;34m\"Nota3 =\"\u001b[0m\u001b[0;34m)\u001b[0m\u001b[0;34m)\u001b[0m\u001b[0;34m\u001b[0m\u001b[0;34m\u001b[0m\u001b[0m\n\u001b[1;32m     10\u001b[0m \u001b[0mMedia\u001b[0m \u001b[0;34m=\u001b[0m \u001b[0mfloat\u001b[0m\u001b[0;34m(\u001b[0m\u001b[0;34m(\u001b[0m\u001b[0mNota1\u001b[0m \u001b[0;34m+\u001b[0m \u001b[0mNota2\u001b[0m \u001b[0;34m+\u001b[0m \u001b[0mNota3\u001b[0m\u001b[0;34m)\u001b[0m\u001b[0;34m/\u001b[0m\u001b[0;36m3\u001b[0m\u001b[0;34m)\u001b[0m\u001b[0;34m\u001b[0m\u001b[0;34m\u001b[0m\u001b[0m\n\u001b[0;32m---> 11\u001b[0;31m \u001b[0mprint\u001b[0m\u001b[0;34m(\u001b[0m\u001b[0mMedia\u001b[0m\u001b[0;34m)\u001b[0m\u001b[0;34m\u001b[0m\u001b[0;34m\u001b[0m\u001b[0m\n\u001b[0m\u001b[1;32m     12\u001b[0m \u001b[0;32mif\u001b[0m \u001b[0mMedia\u001b[0m \u001b[0;34m>=\u001b[0m \u001b[0;36m6\u001b[0m\u001b[0;34m:\u001b[0m\u001b[0;34m\u001b[0m\u001b[0;34m\u001b[0m\u001b[0m\n\u001b[1;32m     13\u001b[0m   \u001b[0mprint\u001b[0m\u001b[0;34m(\u001b[0m\u001b[0;34mf\"Parabéns! Você passou de ano. Media= {Media}\"\u001b[0m\u001b[0;34m)\u001b[0m\u001b[0;34m\u001b[0m\u001b[0;34m\u001b[0m\u001b[0m\n",
            "\u001b[0;31mTypeError\u001b[0m: 'str' object is not callable"
          ]
        }
      ],
      "source": [
        "#Condições\n",
        "#Crie um algoritimo que soma 3 notas de um aluno. Se amedia for maiou ou igual 6,ele passou de ano. Caso contrario, repetiu\n",
        "\n",
        "Nota1 = float(input(\"Nota 1 =\"))\n",
        "Nota2 = float(input(\"Nota2 =\"))\n",
        "Nota3 = float(input(\"Nota3 =\"))\n",
        "Media = (Nota1 + Nota2 + Nota3) / 3\n",
        "if Media >= 6:\n",
        "  print(f\"Parabéns! Você passou de ano. Media= {Media}\")\n",
        "else:\n",
        "    print(f\"Infezilmente você reprovou! Media = {Media}\")\n",
        "\n",
        "\n",
        "\n",
        "\n"
      ]
    }
  ],
  "metadata": {
    "colab": {
      "provenance": []
    },
    "kernelspec": {
      "display_name": "Python 3",
      "name": "python3"
    },
    "language_info": {
      "name": "python"
    }
  },
  "nbformat": 4,
  "nbformat_minor": 0
}
