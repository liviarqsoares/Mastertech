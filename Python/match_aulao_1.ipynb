{
  "nbformat": 4,
  "nbformat_minor": 0,
  "metadata": {
    "colab": {
      "provenance": []
    },
    "kernelspec": {
      "name": "python3",
      "display_name": "Python 3"
    },
    "language_info": {
      "name": "python"
    }
  },
  "cells": [
    {
      "cell_type": "markdown",
      "source": [
        "Bem vindos a nossa aula de python!"
      ],
      "metadata": {
        "id": "3A1YWv3hzxzN"
      }
    },
    {
      "cell_type": "code",
      "source": [
        "print(\"Ola, mundo!\")"
      ],
      "metadata": {
        "colab": {
          "base_uri": "https://localhost:8080/"
        },
        "id": "27ZFr0g6z2Tf",
        "outputId": "d4c2171c-0781-4448-aa58-5b6729e82bfb"
      },
      "execution_count": 3,
      "outputs": [
        {
          "output_type": "stream",
          "name": "stdout",
          "text": [
            "Ola, mundo!\n"
          ]
        }
      ]
    },
    {
      "cell_type": "markdown",
      "source": [
        "Variaveis\n"
      ],
      "metadata": {
        "id": "fpLS84Yu1Gg-"
      }
    },
    {
      "cell_type": "code",
      "source": [
        "# Variável do tipo string (string é o mesmo que texto.)\n",
        "\n",
        "nome = \"Nat\"\n",
        "print(nome)\n",
        "type(nome)"
      ],
      "metadata": {
        "id": "D4muqdpR1JZ1"
      },
      "execution_count": null,
      "outputs": []
    },
    {
      "cell_type": "code",
      "source": [
        "# Variável numérica do tipo inteiro\n",
        "\n",
        "idade = 28\n",
        "print(idade)\n",
        "type(idade)"
      ],
      "metadata": {
        "colab": {
          "base_uri": "https://localhost:8080/"
        },
        "id": "SdAE__6O2hLj",
        "outputId": "7bc93245-4d74-4fb5-9a40-49ed0ec8cff0"
      },
      "execution_count": 14,
      "outputs": [
        {
          "output_type": "stream",
          "name": "stdout",
          "text": [
            "28\n"
          ]
        },
        {
          "output_type": "execute_result",
          "data": {
            "text/plain": [
              "int"
            ]
          },
          "metadata": {},
          "execution_count": 14
        }
      ]
    },
    {
      "cell_type": "code",
      "source": [
        "# Variável do tipo float (quando precisamos de um número decimal, usamos o float)\n",
        "\n",
        "altura = 1.70\n",
        "print(altura)\n",
        "type(altura)"
      ],
      "metadata": {
        "id": "keaRa7ZZ2zsn"
      },
      "execution_count": null,
      "outputs": []
    },
    {
      "cell_type": "code",
      "source": [
        "nome = input(\"Digite o seu nome: \")"
      ],
      "metadata": {
        "colab": {
          "base_uri": "https://localhost:8080/"
        },
        "id": "RS4NgJVf3qh4",
        "outputId": "2860b553-88ae-4e1f-d40a-d89ac2093156"
      },
      "execution_count": 33,
      "outputs": [
        {
          "name": "stdout",
          "output_type": "stream",
          "text": [
            "Digite o seu nome: Nat\n"
          ]
        }
      ]
    },
    {
      "cell_type": "code",
      "source": [
        "print(nome)"
      ],
      "metadata": {
        "colab": {
          "base_uri": "https://localhost:8080/"
        },
        "id": "D911NaAR52ne",
        "outputId": "8cf63189-a848-41ac-eeed-803d70929eaf"
      },
      "execution_count": 29,
      "outputs": [
        {
          "output_type": "stream",
          "name": "stdout",
          "text": [
            "Nicolas\n"
          ]
        }
      ]
    },
    {
      "cell_type": "code",
      "source": [
        "# O f'' é usado para formatar uma mensagem simpática de saída.\n",
        "# A sintaxe é escrever a mensagem entre aspas e colocar as variáveis entre chaves.\n",
        "\n",
        "print(f\"Olá {nome}! Seja bem vindo(a) ao programa Match!\")"
      ],
      "metadata": {
        "colab": {
          "base_uri": "https://localhost:8080/"
        },
        "id": "2zaTPiKk8J-P",
        "outputId": "86e29240-9f54-44ec-def1-ab74125705d4"
      },
      "execution_count": 31,
      "outputs": [
        {
          "output_type": "stream",
          "name": "stdout",
          "text": [
            "Olá Nicolas! Seja bem vindo(a) ao programa Match!\n"
          ]
        }
      ]
    },
    {
      "cell_type": "markdown",
      "source": [
        "Escrever uma mensagem que apareça \"Oi, meu nome e Nat, eu tenho 28 anos e 1.70 de altura.\""
      ],
      "metadata": {
        "id": "DcMxtH9t-R_P"
      }
    },
    {
      "cell_type": "code",
      "source": [
        "print(f\"Oi, meu nome e {nome}, eu tenho {idade} anos e {altura} de altura.\")"
      ],
      "metadata": {
        "colab": {
          "base_uri": "https://localhost:8080/"
        },
        "id": "6noYne-u_hr0",
        "outputId": "3d97cebd-4821-4c7b-d308-a41d36825978"
      },
      "execution_count": 34,
      "outputs": [
        {
          "output_type": "stream",
          "name": "stdout",
          "text": [
            "Oi, meu nome e Nat, eu tenho 28 anos e 1.7 de altura.\n"
          ]
        }
      ]
    },
    {
      "cell_type": "code",
      "source": [
        "# ENTRADAS\n",
        "# Pedir dois numeros para o usuario.\n",
        "numero1 = int(input(\"Digite o primeiro numero: \"))\n",
        "numero2 = int(input(\"Digite o segundo numero: \"))\n",
        "\n",
        "# PROCESSAMENTO\n",
        "# Somar os dois numeros.\n",
        "\n",
        "resultado = numero1 + numero2\n",
        "\n",
        "# SAIDA\n",
        "# Mostrar o resultado na tela.\n",
        "print(f\"A soma do numero {numero1} + o numero {numero2} e: {resultado}\")\n",
        "print(f\"A soma e: {numero1 + numero2}\")"
      ],
      "metadata": {
        "colab": {
          "base_uri": "https://localhost:8080/"
        },
        "id": "E47rbmCjAjsK",
        "outputId": "7f4e8b2a-95f5-4c97-a453-97cab7ced2fa"
      },
      "execution_count": 41,
      "outputs": [
        {
          "output_type": "stream",
          "name": "stdout",
          "text": [
            "Digite o primeiro numero: 6\n",
            "Digite o segundo numero: 1\n",
            "A soma do numero 6 + o numero 1 e: 7\n"
          ]
        }
      ]
    },
    {
      "cell_type": "markdown",
      "source": [
        "Crie um algoritmo que some 3 notas de um aluno e tirar a media.\n",
        "Se a a media for maior ou igual 6, ele passou de ano. Caso contrario, repetiu de ano."
      ],
      "metadata": {
        "id": "e0u99OnbDwsE"
      }
    },
    {
      "cell_type": "code",
      "source": [
        "# ENTRADA\n",
        "# Pedir tres notas de um aluno.\n",
        "nota1 = float(input(\"Digite a primeira nota: \"))\n",
        "nota2 = float(input(\"Digite a segunda nota: \"))\n",
        "nota3 = float(input(\"Digite a terceira nota: \"))\n",
        "\n",
        "# PROCESSAMENTO\n",
        "# somar as notas e dividir por 3 para tirar a media\n",
        "\n",
        "media = (nota1 + nota2 + nota3) / 3\n",
        "\n",
        "if media >= 6:\n",
        "  print(f\"PARABENS! Voce tirou media {media}. Vc passou de ano.\")\n",
        "else:\n",
        "  print(\"Infelizmente vc reprovou :(\")\n",
        "\n",
        "# SAIDA\n",
        "# Se a media for maior ou igual a 6, passou de ano.\n",
        "# caso contrario, repetiu."
      ],
      "metadata": {
        "colab": {
          "base_uri": "https://localhost:8080/"
        },
        "id": "-6pacqPIAswr",
        "outputId": "992033c7-6f7b-437a-e99c-d9c5beb397ff"
      },
      "execution_count": 46,
      "outputs": [
        {
          "output_type": "stream",
          "name": "stdout",
          "text": [
            "Digite a primeira nota: 2\n",
            "Digite a segunda nota: 3\n",
            "Digite a terceira nota: 1\n",
            "Infelizmente vc reprovou :(\n"
          ]
        }
      ]
    },
    {
      "cell_type": "markdown",
      "source": [
        "# **Agora é sua vez** - Bora praticar!"
      ],
      "metadata": {
        "id": "bvMneq5RMfgB"
      }
    },
    {
      "cell_type": "markdown",
      "source": [
        "**DESAFIO 1** - Imprima na tela a mensagem: \"Olá, mundo!\n"
      ],
      "metadata": {
        "id": "vMrQe79yN7MK"
      }
    },
    {
      "cell_type": "code",
      "source": [],
      "metadata": {
        "id": "qyA77F0mOkDd"
      },
      "execution_count": null,
      "outputs": []
    },
    {
      "cell_type": "markdown",
      "source": [
        "**DESAFIO 2** - Faça um programa que leia o nome de uma pessoa e imprima na tela uma mensagem de boas vindas. Exemplo: \"Prazer em te conhecer, nome!\""
      ],
      "metadata": {
        "id": "_qSDLeDROkXn"
      }
    },
    {
      "cell_type": "code",
      "source": [],
      "metadata": {
        "id": "q0HWSw6POns9"
      },
      "execution_count": null,
      "outputs": []
    },
    {
      "cell_type": "markdown",
      "source": [
        "**DESAFIO 3** - Crie um programa que receba dois números e imprima na tela a soma entre eles.\n"
      ],
      "metadata": {
        "id": "nPiCKhg6Oqlx"
      }
    },
    {
      "cell_type": "code",
      "source": [],
      "metadata": {
        "id": "e3-Hj0YxOsM9"
      },
      "execution_count": null,
      "outputs": []
    },
    {
      "cell_type": "markdown",
      "source": [
        "**DESAFIO 4** - Crie um programa que receba um texto e imprima na tela o seu tipo."
      ],
      "metadata": {
        "id": "a-4I4UsvOsZF"
      }
    },
    {
      "cell_type": "code",
      "source": [],
      "metadata": {
        "id": "7sksmRNsOv7y"
      },
      "execution_count": null,
      "outputs": []
    },
    {
      "cell_type": "markdown",
      "source": [
        "**DESAFIO 5** - Crie um programa que receba um número inteiro e imprima na tela seu sucessor e antecessor. A resposta deve ser: \"Analisando o número x, seu antecessor é y e seu sucessor é z\"."
      ],
      "metadata": {
        "id": "b2jxwFKNOwFi"
      }
    },
    {
      "cell_type": "code",
      "source": [],
      "metadata": {
        "id": "QuPCR_Z6Oyxu"
      },
      "execution_count": null,
      "outputs": []
    },
    {
      "cell_type": "markdown",
      "source": [
        "**DESAFIO 6** - Crie um programa que receba um número e imprima na tela o seu dobro, triplo e raiz quadrada. A resposta deve ser: \"Analisando o número x, seu dobro é w, o triplo é y e a raiz quadrada é z.\"\n"
      ],
      "metadata": {
        "id": "BTRO4F6lOzGm"
      }
    },
    {
      "cell_type": "code",
      "source": [],
      "metadata": {
        "id": "ieTRdk-EO2fk"
      },
      "execution_count": null,
      "outputs": []
    },
    {
      "cell_type": "markdown",
      "source": [
        "**DESAFIO 7** - Faça um programa que leia duas notas de um aluno e imprima na tela sua média.\n"
      ],
      "metadata": {
        "id": "TGePi3bRO2qx"
      }
    },
    {
      "cell_type": "code",
      "source": [],
      "metadata": {
        "id": "MjlbrxHCO6Dn"
      },
      "execution_count": null,
      "outputs": []
    },
    {
      "cell_type": "markdown",
      "source": [
        "**DESAFIO 8** - Faça um programa que receba um valor em metros e o exiba convertido para centímetros e milímetros."
      ],
      "metadata": {
        "id": "LuiVOQbjO6vr"
      }
    },
    {
      "cell_type": "code",
      "source": [],
      "metadata": {
        "id": "Kcm9Kqx7O-E6"
      },
      "execution_count": null,
      "outputs": []
    },
    {
      "cell_type": "markdown",
      "source": [
        "**DESAFIO 9** - Faça um programa que leia um número inteiro qualquer e exiba na tela sua tabuada."
      ],
      "metadata": {
        "id": "p9lU4vDxO-ct"
      }
    },
    {
      "cell_type": "code",
      "source": [],
      "metadata": {
        "id": "CiaoYsMHPA5g"
      },
      "execution_count": null,
      "outputs": []
    },
    {
      "cell_type": "markdown",
      "source": [
        "**DESAFIO 10** - Faça um programa que receba um valor em dólares e mostre na tela seu valor em reais.\n"
      ],
      "metadata": {
        "id": "E1nfpU2dPBEg"
      }
    },
    {
      "cell_type": "code",
      "source": [],
      "metadata": {
        "id": "FRZ85uvTPEYI"
      },
      "execution_count": null,
      "outputs": []
    },
    {
      "cell_type": "markdown",
      "source": [
        "**DESAFIO 11** - Faça um Programa que leia uma lista de 5 números inteiros, mostre a soma, a multiplicação e os números."
      ],
      "metadata": {
        "id": "bHlQASuhPEq_"
      }
    },
    {
      "cell_type": "code",
      "source": [],
      "metadata": {
        "id": "b8U3z5VIPIAj"
      },
      "execution_count": null,
      "outputs": []
    },
    {
      "cell_type": "markdown",
      "source": [
        "**DESAFIO 12** - Faça um Programa que peça um número e então mostre a mensagem: \"O número informado foi [número]\""
      ],
      "metadata": {
        "id": "paHhPFsAPLYz"
      }
    },
    {
      "cell_type": "code",
      "source": [],
      "metadata": {
        "id": "7829njESPMUT"
      },
      "execution_count": null,
      "outputs": []
    },
    {
      "cell_type": "markdown",
      "source": [
        "**DESAFIO 13** - Faça um Programa que pergunte quanto você ganha por hora e o número de horas trabalhadas no mês. Calcule e mostre o total do seu salário no referido mês."
      ],
      "metadata": {
        "id": "btSZN65yPMga"
      }
    },
    {
      "cell_type": "code",
      "source": [],
      "metadata": {
        "id": "Fv_tEGM6PTWp"
      },
      "execution_count": null,
      "outputs": []
    },
    {
      "cell_type": "markdown",
      "source": [
        "**DESAFIO 14** - Faça um Programa que peça o raio de um círculo, calcule e mostre sua área."
      ],
      "metadata": {
        "id": "uRq5Wnc6PTjH"
      }
    },
    {
      "cell_type": "code",
      "source": [],
      "metadata": {
        "id": "PZhGwfLDPWV5"
      },
      "execution_count": null,
      "outputs": []
    },
    {
      "cell_type": "markdown",
      "source": [
        "**DESAFIO 15** - Faça um programa para uma loja de tintas. O programa deverá pedir o tamanho em metros quadrados da área a ser pintada. Considere que a cobertura da tinta é de 1 litro para cada 3 metros quadrados e que a tinta é vendida em latas de 18 litros, que custam R$ 80,00. Informe ao usuário a quantidades de latas de tinta a serem compradas e o preço total."
      ],
      "metadata": {
        "id": "CxGGLkMQPWgN"
      }
    },
    {
      "cell_type": "code",
      "source": [],
      "metadata": {
        "id": "Ui_2ccb-Pakq"
      },
      "execution_count": null,
      "outputs": []
    },
    {
      "cell_type": "markdown",
      "source": [
        "**DESAFIO 16** - Faça um Programa que peça a temperatura em graus Celsius, transforme e mostre em graus Fahrenheit."
      ],
      "metadata": {
        "id": "JuDT63yOPdti"
      }
    },
    {
      "cell_type": "code",
      "source": [],
      "metadata": {
        "id": "on2P6qkaPePS"
      },
      "execution_count": null,
      "outputs": []
    },
    {
      "cell_type": "markdown",
      "source": [],
      "metadata": {
        "id": "5KmHpwIiPehF"
      }
    }
  ]
}